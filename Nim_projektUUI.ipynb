{
 "cells": [
  {
   "cell_type": "code",
   "execution_count": 1,
   "id": "b23e7cfc-7b27-4932-9ef2-df43a61cd683",
   "metadata": {},
   "outputs": [],
   "source": [
    "def ploca(hrpe):\n",
    "    print(\"\\nTrenutno stanje ploče:\")\n",
    "    for i, hrpa in enumerate(hrpe):\n",
    "        print(f\"Hrpa {i}: {'| ' * hrpa}\")\n"
   ]
  },
  {
   "cell_type": "code",
   "execution_count": 3,
   "id": "9118dd8b-493f-4eb0-af13-c24675148c9e",
   "metadata": {},
   "outputs": [],
   "source": [
    "def zavrseno(hrpe):\n",
    "    return sum(hrpe) == 0"
   ]
  },
  {
   "cell_type": "code",
   "execution_count": 4,
   "id": "d1f6c2dc-ac80-44f6-90b9-98458833d9a8",
   "metadata": {},
   "outputs": [],
   "source": [
    "def minimax(hrpe, dubina, ai):\n",
    "   if zavrseno(hrpe):\n",
    "        return -1 if ai else 1\n",
    "\n",
    "   if ai: \n",
    "         min_rez = float('inf')\n",
    "         for i in range(len(hrpe)):\n",
    "            for uzmi in range(1, min(3, hrpe[i] + 1)):\n",
    "                nove_hrpe = hrpe[:]\n",
    "                nove_hrpe[i] -= uzmi\n",
    "                rezultat = minimax(nove_hrpe, dubina + 1, False)\n",
    "                min_rez = min(min_rez, rezultat)\n",
    "         return min_rez\n",
    "   else: \n",
    "        max_rez = float('-inf')\n",
    "        for i in range(len(hrpe)):\n",
    "            for uzmi in range(1, min(3, hrpe[i] + 1)):\n",
    "                nove_hrpe = hrpe[:]\n",
    "                nove_hrpe[i] -= uzmi\n",
    "                rezultat = minimax(nove_hrpe, dubina + 1, True)\n",
    "                max_rez = max(max_rez, rezultat)\n",
    "        return max_rez\n"
   ]
  },
  {
   "cell_type": "code",
   "execution_count": 5,
   "id": "69750e7d-bd26-4d1d-adda-3490a5a6aaf1",
   "metadata": {},
   "outputs": [],
   "source": [
    "def ai_potez(hrpe):\n",
    "    min_vrijednost = float('inf')  # AI minimizira gubitak\n",
    "    najbolji_potez = (0, 1)  # (hrpa, broj_sibica)\n",
    "\n",
    "    for i in range(len(hrpe)):\n",
    "        for uzmi in range(1, min(3, hrpe[i] + 1)):\n",
    "            nove_hrpe = hrpe[:]\n",
    "            nove_hrpe[i] -= uzmi\n",
    "            vrijednost = minimax(nove_hrpe, 0, False)  # AI simulira potez\n",
    "\n",
    "            if vrijednost < min_vrijednost:\n",
    "                min_vrijednost = vrijednost\n",
    "                najbolji_potez = (i, uzmi)\n",
    "\n",
    "    return najbolji_potez"
   ]
  },
  {
   "cell_type": "code",
   "execution_count": 6,
   "id": "be16a9ae-87f7-4ef0-93e5-b39684bcab5c",
   "metadata": {},
   "outputs": [],
   "source": [
    "def igrac(hrpe):\n",
    "    print(\"Na potezu ste...\")\n",
    "    hrpa = int(input(\"Odaberite hrpu (0 ili 1): \"))\n",
    "    while hrpa not in [0, 1] or hrpe[hrpa] == 0:\n",
    "        hrpa = int(input(\"Pogrešan unos. Odaberite hrpu (0 ili 1): \"))\n",
    "\n",
    "    sibice = int(input(f\"Koliko šibica želite uzeti iz hrpe {hrpa} (1 ili 2): \"))\n",
    "    while sibice not in [1, 2] or sibice > hrpe[hrpa]:\n",
    "        sibice = int(input(f\"Pogrešan unos. Koliko šibica želite uzeti iz hrpe {hrpa} (1 ili 2): \"))\n",
    "\n",
    "    hrpe[hrpa] -= sibice\n",
    "    return hrpe"
   ]
  },
  {
   "cell_type": "code",
   "execution_count": 7,
   "id": "7bf0da88-4aa2-4e2d-8843-3cb886537cfa",
   "metadata": {},
   "outputs": [],
   "source": [
    "def igra():\n",
    "    # Inicijalizacija igre s dvije hrpe od po 6 šibica\n",
    "    hrpe = [6, 6]\n",
    "    potez_igrac = False\n",
    "\n",
    "    print(\"Dobrodošli u igru Nim!\\n\")\n",
    "    ploca(hrpe)\n",
    "\n",
    "    while not zavrseno(hrpe):\n",
    "        if potez_igrac:\n",
    "            hrpe = igrac(hrpe)\n",
    "        else:\n",
    "            print(\"AI je na potezu...\")\n",
    "            hrpa, sibice = ai_potez(hrpe)\n",
    "            print(f\"AI je uzeo {sibice} šibica iz hrpe {hrpa}.\")\n",
    "            hrpe[hrpa] -= sibice\n",
    "\n",
    "        ploca(hrpe)\n",
    "        potez_igrac = not potez_igrac\n",
    "\n",
    "    # Kad su hrpe prazne, gubi onaj tko je povukao posljednji potez\n",
    "    if potez_igrac:\n",
    "        print(\"Čestitamo! Pobijedili ste! AI je morao uzeti posljednju šibicu.\")\n",
    "    else:\n",
    "        print(\"AI je pobijedio! Morali ste uzeti posljednju šibicu.\")\n"
   ]
  },
  {
   "cell_type": "code",
   "execution_count": 8,
   "id": "d4f1da81-65dd-413d-9736-7d2609c4df01",
   "metadata": {},
   "outputs": [
    {
     "name": "stdout",
     "output_type": "stream",
     "text": [
      "Dobrodošli u igru Nim!\n",
      "\n",
      "\n",
      "Trenutno stanje ploče:\n",
      "Hrpa 0: | | | | | | \n",
      "Hrpa 1: | | | | | | \n",
      "AI je na potezu...\n",
      "AI je uzeo 2 šibica iz hrpe 0.\n",
      "\n",
      "Trenutno stanje ploče:\n",
      "Hrpa 0: | | | | \n",
      "Hrpa 1: | | | | | | \n",
      "Na potezu ste...\n"
     ]
    },
    {
     "name": "stdin",
     "output_type": "stream",
     "text": [
      "Odaberite hrpu (0 ili 1):  0\n",
      "Koliko šibica želite uzeti iz hrpe 0 (1 ili 2):  1\n"
     ]
    },
    {
     "name": "stdout",
     "output_type": "stream",
     "text": [
      "\n",
      "Trenutno stanje ploče:\n",
      "Hrpa 0: | | | \n",
      "Hrpa 1: | | | | | | \n",
      "AI je na potezu...\n",
      "AI je uzeo 2 šibica iz hrpe 0.\n",
      "\n",
      "Trenutno stanje ploče:\n",
      "Hrpa 0: | \n",
      "Hrpa 1: | | | | | | \n",
      "Na potezu ste...\n"
     ]
    },
    {
     "name": "stdin",
     "output_type": "stream",
     "text": [
      "Odaberite hrpu (0 ili 1):  1\n",
      "Koliko šibica želite uzeti iz hrpe 1 (1 ili 2):  1\n"
     ]
    },
    {
     "name": "stdout",
     "output_type": "stream",
     "text": [
      "\n",
      "Trenutno stanje ploče:\n",
      "Hrpa 0: | \n",
      "Hrpa 1: | | | | | \n",
      "AI je na potezu...\n",
      "AI je uzeo 2 šibica iz hrpe 1.\n",
      "\n",
      "Trenutno stanje ploče:\n",
      "Hrpa 0: | \n",
      "Hrpa 1: | | | \n",
      "Na potezu ste...\n"
     ]
    },
    {
     "name": "stdin",
     "output_type": "stream",
     "text": [
      "Odaberite hrpu (0 ili 1):  1\n",
      "Koliko šibica želite uzeti iz hrpe 1 (1 ili 2):  1\n"
     ]
    },
    {
     "name": "stdout",
     "output_type": "stream",
     "text": [
      "\n",
      "Trenutno stanje ploče:\n",
      "Hrpa 0: | \n",
      "Hrpa 1: | | \n",
      "AI je na potezu...\n",
      "AI je uzeo 2 šibica iz hrpe 1.\n",
      "\n",
      "Trenutno stanje ploče:\n",
      "Hrpa 0: | \n",
      "Hrpa 1: \n",
      "Na potezu ste...\n"
     ]
    },
    {
     "name": "stdin",
     "output_type": "stream",
     "text": [
      "Odaberite hrpu (0 ili 1):  0\n",
      "Koliko šibica želite uzeti iz hrpe 0 (1 ili 2):  1\n"
     ]
    },
    {
     "name": "stdout",
     "output_type": "stream",
     "text": [
      "\n",
      "Trenutno stanje ploče:\n",
      "Hrpa 0: \n",
      "Hrpa 1: \n",
      "AI je pobijedio! Morali ste uzeti posljednju šibicu.\n"
     ]
    }
   ],
   "source": [
    "igra()"
   ]
  },
  {
   "cell_type": "code",
   "execution_count": null,
   "id": "0a1f8146-9813-4180-9711-19529ddb96c0",
   "metadata": {},
   "outputs": [],
   "source": []
  }
 ],
 "metadata": {
  "kernelspec": {
   "display_name": "Python 3 (ipykernel)",
   "language": "python",
   "name": "python3"
  },
  "language_info": {
   "codemirror_mode": {
    "name": "ipython",
    "version": 3
   },
   "file_extension": ".py",
   "mimetype": "text/x-python",
   "name": "python",
   "nbconvert_exporter": "python",
   "pygments_lexer": "ipython3",
   "version": "3.12.4"
  }
 },
 "nbformat": 4,
 "nbformat_minor": 5
}
